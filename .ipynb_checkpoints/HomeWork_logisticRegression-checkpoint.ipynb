{
 "cells": [
  {
   "cell_type": "code",
   "execution_count": 1,
   "metadata": {},
   "outputs": [],
   "source": [
    "import pandas as pd\n",
    "import matplotlib.pyplot as plt # для визуализации\n",
    "import numpy as np # для операций с массивами\n",
    "from sklearn.linear_model import LogisticRegression\n",
    "from sklearn.metrics import classification_report, confusion_matrix\n",
    "\n",
    "#import torch as T\n",
    "device = 'cpu'"
   ]
  },
  {
   "cell_type": "code",
   "execution_count": 2,
   "metadata": {},
   "outputs": [],
   "source": [
    "# def forward(x, w, b): # перемн. вектора признаков на вектор весов\n",
    "#     z = T.dot(x, w).reshape(1) # превращаем это в скалярную величину\n",
    "#     z += b # добавляем свободный коэфф.\n",
    "#     p = 1 / (1 + T.exp(-z)) # сигмоида\n",
    "#     return p # возвращ. вероятность. Логистич. регрессия предсказывает вероятность"
   ]
  },
  {
   "cell_type": "code",
   "execution_count": 2,
   "metadata": {},
   "outputs": [],
   "source": [
    "seed = 0xEDA # фикс. сид в 16-й"
   ]
  },
  {
   "cell_type": "code",
   "execution_count": 6,
   "metadata": {},
   "outputs": [
    {
     "name": "stdout",
     "output_type": "stream",
     "text": [
      "Создадим данные\n"
     ]
    }
   ],
   "source": [
    "print(\"Создадим данные\")\n",
    "# T.manual_seed(seed) # для пайторч и нумпай\n",
    "# np.random.seed(seed)\n",
    "\n",
    "# # 1. Модельные данные для обучения\n",
    "# train_x = np.array([\n",
    "#     [1.5, 2.5], [3.5, 4.5], [6.5, 6.5],\n",
    "#     [4.5, 1.5], [5.5, 3.5], [7.5, 5.5]], dtype=np.float32) # 6 объектов с 2 признаками\n",
    "# train_y = np.array([1, 1, 1, 0, 0, 0], dtype=np.long)\n",
    "    \n",
    "# входные значения \n",
    "x = np.arange(10).reshape(-1, 1) #(0-9), т.е. создает массив последовательных, равномерно распределенных значений в заданном диапазоне.\n",
    "# Чтобы сделать x двумерным - .reshape()\n",
    "# с аргументами -1, чтобы получить столько строк, сколько необходимо, и 1, чтобы получить один столбец.\n",
    "y = np.array([0, 0, 0, 0, 1, 1, 1, 1, 1, 1]) # выходные значения"
   ]
  },
  {
   "cell_type": "code",
   "execution_count": 7,
   "metadata": {},
   "outputs": [],
   "source": [
    "model = LogisticRegression(solver='liblinear', random_state=0)"
   ]
  },
  {
   "cell_type": "code",
   "execution_count": 8,
   "metadata": {},
   "outputs": [
    {
     "data": {
      "text/plain": [
       "LogisticRegression(random_state=0, solver='liblinear')"
      ]
     },
     "execution_count": 8,
     "metadata": {},
     "output_type": "execute_result"
    }
   ],
   "source": [
    "model.fit(x, y) # принимает значения x, y и, возможно, связанные с наблюдением\n",
    "# Она соответствует модели и сама возвращает экземпляр модели:"
   ]
  },
  {
   "cell_type": "code",
   "execution_count": 12,
   "metadata": {},
   "outputs": [
    {
     "data": {
      "text/plain": [
       "LogisticRegression(multi_class='warn', random_state=0, solver='liblinear')"
      ]
     },
     "execution_count": 12,
     "metadata": {},
     "output_type": "execute_result"
    }
   ],
   "source": [
    "# Текстовое описание подобранной модели\n",
    "LogisticRegression( \n",
    "    C=1.0, \n",
    "    class_weight=None, \n",
    "    dual=False, \n",
    "    fit_intercept=True,\n",
    "    intercept_scaling=1, \n",
    "    l1_ratio=None, \n",
    "    max_iter=100,\n",
    "    multi_class='warn', \n",
    "    n_jobs=None, \n",
    "    penalty='l2',\n",
    "    random_state=0, \n",
    "    solver='liblinear', \n",
    "    tol=0.0001, \n",
    "    verbose=0,\n",
    "    warm_start=False\n",
    ")"
   ]
  },
  {
   "cell_type": "code",
   "execution_count": 13,
   "metadata": {},
   "outputs": [],
   "source": [
    "model = LogisticRegression(solver='liblinear', random_state=0).fit(x, y)"
   ]
  },
  {
   "cell_type": "code",
   "execution_count": 14,
   "metadata": {},
   "outputs": [
    {
     "data": {
      "text/plain": [
       "array([0, 1])"
      ]
     },
     "execution_count": 14,
     "metadata": {},
     "output_type": "execute_result"
    }
   ],
   "source": [
    "model.classes_"
   ]
  },
  {
   "cell_type": "code",
   "execution_count": 15,
   "metadata": {},
   "outputs": [
    {
     "data": {
      "text/plain": [
       "array([-1.04608067])"
      ]
     },
     "execution_count": 15,
     "metadata": {},
     "output_type": "execute_result"
    }
   ],
   "source": [
    "model.intercept_"
   ]
  },
  {
   "cell_type": "code",
   "execution_count": 16,
   "metadata": {},
   "outputs": [
    {
     "data": {
      "text/plain": [
       "array([[0.51491375]])"
      ]
     },
     "execution_count": 16,
     "metadata": {},
     "output_type": "execute_result"
    }
   ],
   "source": [
    "model.coef_"
   ]
  },
  {
   "cell_type": "code",
   "execution_count": 17,
   "metadata": {},
   "outputs": [
    {
     "data": {
      "text/plain": [
       "array([[0.74002157, 0.25997843],\n",
       "       [0.62975524, 0.37024476],\n",
       "       [0.5040632 , 0.4959368 ],\n",
       "       [0.37785549, 0.62214451],\n",
       "       [0.26628093, 0.73371907],\n",
       "       [0.17821501, 0.82178499],\n",
       "       [0.11472079, 0.88527921],\n",
       "       [0.07186982, 0.92813018],\n",
       "       [0.04422513, 0.95577487],\n",
       "       [0.02690569, 0.97309431]])"
      ]
     },
     "execution_count": 17,
     "metadata": {},
     "output_type": "execute_result"
    }
   ],
   "source": [
    "model.predict_proba(x)"
   ]
  },
  {
   "cell_type": "code",
   "execution_count": 18,
   "metadata": {},
   "outputs": [
    {
     "data": {
      "text/plain": [
       "array([0, 0, 0, 1, 1, 1, 1, 1, 1, 1])"
      ]
     },
     "execution_count": 18,
     "metadata": {},
     "output_type": "execute_result"
    }
   ],
   "source": [
    "model.predict(x)"
   ]
  },
  {
   "cell_type": "code",
   "execution_count": 19,
   "metadata": {},
   "outputs": [
    {
     "data": {
      "text/plain": [
       "0.9"
      ]
     },
     "execution_count": 19,
     "metadata": {},
     "output_type": "execute_result"
    }
   ],
   "source": [
    "model.score(x, y)"
   ]
  },
  {
   "cell_type": "code",
   "execution_count": 20,
   "metadata": {},
   "outputs": [
    {
     "data": {
      "text/plain": [
       "array([[3, 1],\n",
       "       [0, 6]], dtype=int64)"
      ]
     },
     "execution_count": 20,
     "metadata": {},
     "output_type": "execute_result"
    }
   ],
   "source": [
    "confusion_matrix(y, model.predict(x))"
   ]
  },
  {
   "cell_type": "code",
   "execution_count": 21,
   "metadata": {},
   "outputs": [
    {
     "data": {
      "image/png": "[encoded data removed]",
      "text/plain": [
       "<Figure size 576x576 with 1 Axes>"
      ]
     },
     "metadata": {
      "needs_background": "light"
     },
     "output_type": "display_data"
    }
   ],
   "source": [
    "cm = confusion_matrix(y, model.predict(x))\n",
    "fig, ax = plt.subplots(figsize=(8, 8))\n",
    "\n",
    "ax.imshow(cm)\n",
    "ax.grid(False)\n",
    "\n",
    "ax.xaxis.set(ticks=(0, 1), ticklabels=('Predicted 0s', 'Predicted 1s'))\n",
    "ax.yaxis.set(ticks=(0, 1), ticklabels=('Actual 0s', 'Actual 1s'))\n",
    "ax.set_ylim(1.5, -0.5)\n",
    "\n",
    "for i in range(2):\n",
    "    for j in range(2):\n",
    "        ax.text(j, i, cm[i, j], ha='center', va='center', color='red')\n",
    "        \n",
    "plt.show()"
   ]
  },
  {
   "cell_type": "code",
   "execution_count": 22,
   "metadata": {},
   "outputs": [
    {
     "name": "stdout",
     "output_type": "stream",
     "text": [
      "              precision    recall  f1-score   support\n",
      "\n",
      "           0       1.00      0.75      0.86         4\n",
      "           1       0.86      1.00      0.92         6\n",
      "\n",
      "    accuracy                           0.90        10\n",
      "   macro avg       0.93      0.88      0.89        10\n",
      "weighted avg       0.91      0.90      0.90        10\n",
      "\n"
     ]
    }
   ],
   "source": [
    "print(classification_report(y, model.predict(x)))"
   ]
  },
  {
   "cell_type": "code",
   "execution_count": null,
   "metadata": {},
   "outputs": [],
   "source": []
  },
  {
   "cell_type": "code",
   "execution_count": 24,
   "metadata": {
    "scrolled": true
   },
   "outputs": [],
   "source": [
    "# print(\"Превратим в тензоры:\")\n",
    "# print(train_x)\n",
    "# print(train_y)\n",
    "\n",
    "# train_x = T.tensor(train_x, dtype=T.float32).to(device)\n",
    "# train_y = T.tensor(train_y, dtype=T.long).to(device)"
   ]
  },
  {
   "cell_type": "code",
   "execution_count": 6,
   "metadata": {},
   "outputs": [],
   "source": [
    "# # делаем тензоры для наших коэфф.. Умн. на 6 случ. вел.\n",
    "# # границы для случайной величины\n",
    "# lo = -0.01; hi = 0.01 # границы сферху и снизу\n",
    "# w = T.rand((2), dtype=T.float32, requires_grad=True).to(device) # 2 признака\n",
    "# w = (hi - lo) * w + lo\n",
    "# w.grad = T.zeros(2)\n",
    "# w.retain_grad()\n",
    "\n",
    "# # то же самое для своб. обуч\n",
    "# b = T.zeros((1), dtype=T.float32, requires_grad=True).to(device)\n",
    "# b.grad = T.zeros(1)\n",
    "# b.retain_grad()"
   ]
  },
  {
   "cell_type": "code",
   "execution_count": 23,
   "metadata": {
    "scrolled": false
   },
   "outputs": [],
   "source": [
    "# print(\"Обучение\")\n",
    "\n",
    "# lrn_rate = 0.05 # параметр, который обозначает скорость нашего обучения\n",
    "# indices = np.arange(6) # индексы объектов\n",
    "\n",
    "# for epoch in range(0, 100): # будет 100 операций\n",
    "#     tot_loss = 0\n",
    "#     tot_loss = T.zeros((1), dtype=T.float32, requires_grad=True).to(device)\n",
    "#     tot_loss.grad = T.zeros(1)\n",
    "#     tot_loss.retain_grad()\n",
    "    \n",
    "#     np.random.shuffle(indices)  \n",
    "#     for ii in range(len(indices)):\n",
    "#         i = indices[ii]\n",
    "#         x = train_x[i] # получаем наш объект\n",
    "#         target = train_y[i] # и таргет\n",
    "#         oupt = forward(x, w, b) # получаем вер.\n",
    "#         loss = (oupt - target).pow(2).sum() #\n",
    "#         tot_loss = loss+tot_loss\n",
    "        \n",
    "# #     tot_loss = tot_loss + T.norm(w, p=2) # l2 reg\n",
    "# #     tot_loss = tot_loss + T.norm(w, p=1) # l1 reg\n",
    "\n",
    "#     tot_loss.backward(retain_graph=True)  # compute gradients\n",
    "\n",
    "#     w.data += -1 * lrn_rate * w.grad.data # направление -1\n",
    "#     b.data += -1 * lrn_rate * b.grad.data\n",
    "\n",
    "#     w.grad = T.zeros(2)\n",
    "#     b.grad = T.zeros(1)\n",
    "\n",
    "#     if epoch % 10 == 0: # повторяем\n",
    "#         print(\"epoch = %4d \" % epoch, end=\"\")\n",
    "#         print(\"   loss = %6.4f\" % (tot_loss / 6))"
   ]
  }
 ],
 "metadata": {
  "kernelspec": {
   "display_name": "Python 3",
   "language": "python",
   "name": "python3"
  },
  "language_info": {
   "codemirror_mode": {
    "name": "ipython",
    "version": 3
   },
   "file_extension": ".py",
   "mimetype": "text/x-python",
   "name": "python",
   "nbconvert_exporter": "python",
   "pygments_lexer": "ipython3",
   "version": "3.8.5"
  }
 },
 "nbformat": 4,
 "nbformat_minor": 5
}
